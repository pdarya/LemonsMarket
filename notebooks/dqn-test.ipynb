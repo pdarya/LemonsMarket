{
 "cells": [
  {
   "cell_type": "code",
   "execution_count": 1,
   "metadata": {},
   "outputs": [],
   "source": [
    "import sys\n",
    "sys.path.append('/Users/darapoludova/Documents/courses/LemonsMarket')\n",
    "import matplotlib. pyplot as plt\n",
    "\n",
    "import numpy as np\n",
    "import pandas as pd\n",
    "import torch\n",
    "import torch.nn as nn\n",
    "\n",
    "from config import *\n",
    "from game import StaticGame\n",
    "from agents import EpsGreedyAgent, BolzmanAgent, DQNAgent"
   ]
  },
  {
   "cell_type": "code",
   "execution_count": 2,
   "metadata": {},
   "outputs": [
    {
     "name": "stdout",
     "output_type": "stream",
     "text": [
      "cpu\n"
     ]
    }
   ],
   "source": [
    "device = torch.device('cpu')\n",
    "if torch.cuda.is_available():\n",
    "    device = torch.device('cuda')\n",
    "    \n",
    "print(device)"
   ]
  },
  {
   "cell_type": "code",
   "execution_count": 3,
   "metadata": {},
   "outputs": [
    {
     "data": {
      "text/plain": [
       "device(type='cpu')"
      ]
     },
     "execution_count": 3,
     "metadata": {},
     "output_type": "execute_result"
    }
   ],
   "source": [
    "device"
   ]
  },
  {
   "cell_type": "code",
   "execution_count": 4,
   "metadata": {},
   "outputs": [],
   "source": [
    "class SimpleModel(nn.Module):\n",
    "    def __init__(self, n_features, hidden_size=16):\n",
    "        super().__init__()\n",
    "        self.linear_1 = nn.Linear(n_features, hidden_size)\n",
    "        self.linear_2 = nn.Linear(hidden_size, hidden_size)\n",
    "        self.linear_3 = nn.Linear(hidden_size, 1)\n",
    "        \n",
    "    def forward(self, features):\n",
    "        output = nn.functional.relu(self.linear_1(features))\n",
    "        output = nn.functional.relu(self.linear_2(output))\n",
    "        output = self.linear_3(output)\n",
    "        return output"
   ]
  },
  {
   "cell_type": "code",
   "execution_count": 5,
   "metadata": {},
   "outputs": [],
   "source": [
    "# define game and agents\n",
    "\n",
    "seller_model = SimpleModel(10)\n",
    "opt_seller = torch.optim.Adam(seller_model.parameters(), lr=1e-3)\n",
    "\n",
    "buyer_model = SimpleModel(10)\n",
    "opt_buyer = torch.optim.Adam(buyer_model.parameters(), lr=1e-3)\n",
    "\n",
    "game = StaticGame()\n",
    "agent_seller = DQNAgent('seller', seller_model, 1.0)\n",
    "agent_buyer = DQNAgent('buyer', buyer_model, 1.0)"
   ]
  },
  {
   "cell_type": "code",
   "execution_count": 6,
   "metadata": {},
   "outputs": [],
   "source": [
    "# play one game to collect data\n",
    "def play_one_game(game, agent_seller, agent_buyer, n_iters=100):\n",
    "    \n",
    "    for iter_num in range(n_iters):\n",
    "        game.reset()\n",
    "\n",
    "        seller_action = agent_seller.choose_action(game.car_type)\n",
    "        game.step('seller', seller_action)\n",
    "        buyer_action = agent_buyer.choose_action(seller_action)\n",
    "        game.step('buyer', buyer_action)\n",
    "            \n",
    "        agent_seller.observe_reward(game.reward('seller'))\n",
    "        agent_buyer.observe_reward(game.reward('buyer'))\n",
    "        \n",
    "        # remember history for models fitting\n",
    "        for agent in (agent_seller, agent_buyer):\n",
    "            agent.observe_game_result((game.car_type, seller_action, buyer_action))"
   ]
  },
  {
   "cell_type": "code",
   "execution_count": 7,
   "metadata": {},
   "outputs": [],
   "source": [
    "play_one_game(game, agent_seller, agent_buyer)"
   ]
  },
  {
   "cell_type": "code",
   "execution_count": null,
   "metadata": {},
   "outputs": [],
   "source": [
    "# train & evaluate model with callback\n",
    "# save model ?"
   ]
  },
  {
   "cell_type": "code",
   "execution_count": 58,
   "metadata": {},
   "outputs": [],
   "source": [
    "# get train / val datasets\n",
    "\n",
    "X, y = agent_seller.get_train_data()\n",
    "n_examples = len(y)\n",
    "test_idx = np.random.choice(n_examples, size=int(n_examples * 0.1), replace=False)\n",
    "train_idx = list(set(range(n_examples)) - set(test_idx))\n",
    "\n",
    "y = np.array(y)\n",
    "X_train, X_test = X[train_idx], X[test_idx]\n",
    "y_train, y_test = y[train_idx], y[test_idx]"
   ]
  },
  {
   "cell_type": "code",
   "execution_count": 57,
   "metadata": {},
   "outputs": [
    {
     "ename": "AttributeError",
     "evalue": "'list' object has no attribute 'shape'",
     "output_type": "error",
     "traceback": [
      "\u001b[0;31m---------------------------------------------------------------------------\u001b[0m",
      "\u001b[0;31mAttributeError\u001b[0m                            Traceback (most recent call last)",
      "\u001b[0;32m<ipython-input-57-3d861059fa55>\u001b[0m in \u001b[0;36m<module>\u001b[0;34m\u001b[0m\n\u001b[0;32m----> 1\u001b[0;31m \u001b[0my\u001b[0m\u001b[0;34m.\u001b[0m\u001b[0mshape\u001b[0m\u001b[0;34m\u001b[0m\u001b[0;34m\u001b[0m\u001b[0m\n\u001b[0m",
      "\u001b[0;31mAttributeError\u001b[0m: 'list' object has no attribute 'shape'"
     ]
    }
   ],
   "source": []
  },
  {
   "cell_type": "code",
   "execution_count": 54,
   "metadata": {},
   "outputs": [
    {
     "data": {
      "text/plain": [
       "array([[ 0,  0,  0,  0,  0,  0,  0,  0,  0,  1],\n",
       "       [ 0,  0,  0,  1,  0,  0,  0,  0,  1,  0],\n",
       "       [ 0,  0,  0,  1,  0,  1,  0,  0,  1,  0],\n",
       "       [ 0,  0,  0,  1,  1,  1,  0,  0,  0,  1],\n",
       "       [ 0,  0,  0,  2,  1,  1,  0,  0,  1,  1],\n",
       "       [ 0,  0,  0,  2,  1,  1,  1,  0,  1,  0],\n",
       "       [ 0,  0,  0,  2,  2,  1,  1,  0,  1,  1],\n",
       "       [ 0,  0,  0,  2,  2,  1,  2,  0,  1,  0],\n",
       "       [ 0,  0,  0,  2,  2,  2,  2,  0,  0,  0],\n",
       "       [ 0,  1,  0,  2,  2,  2,  2,  0,  1,  1],\n",
       "       [ 0,  1,  0,  2,  2,  2,  2,  1,  1,  1],\n",
       "       [ 0,  1,  0,  2,  2,  2,  3,  1,  1,  0],\n",
       "       [ 0,  1,  0,  2,  2,  3,  3,  1,  1,  0],\n",
       "       [ 0,  1,  0,  2,  3,  3,  3,  1,  1,  1],\n",
       "       [ 0,  1,  0,  2,  3,  3,  4,  1,  1,  0],\n",
       "       [ 0,  1,  0,  2,  3,  4,  4,  1,  1,  1],\n",
       "       [ 0,  1,  0,  2,  3,  4,  4,  2,  1,  0],\n",
       "       [ 0,  1,  0,  2,  3,  6,  4,  2,  1,  1],\n",
       "       [ 0,  1,  0,  2,  3,  6,  5,  2,  1,  0],\n",
       "       [ 0,  1,  0,  2,  4,  6,  5,  2,  1,  0],\n",
       "       [ 0,  1,  0,  2,  4,  7,  5,  2,  1,  1],\n",
       "       [ 0,  1,  0,  2,  4,  7,  5,  3,  1,  0],\n",
       "       [ 0,  1,  0,  2,  5,  7,  5,  3,  1,  0],\n",
       "       [ 0,  1,  0,  2,  5,  8,  6,  3,  1,  0],\n",
       "       [ 0,  1,  0,  2,  6,  8,  6,  3,  1,  1],\n",
       "       [ 0,  1,  0,  2,  6,  8,  6,  4,  1,  1],\n",
       "       [ 0,  1,  0,  2,  6,  8,  7,  4,  0,  0],\n",
       "       [ 0,  2,  0,  2,  6,  8,  7,  5,  1,  0],\n",
       "       [ 0,  2,  0,  2,  6,  9,  7,  5,  1,  1],\n",
       "       [ 0,  2,  0,  2,  6,  9,  8,  5,  1,  0],\n",
       "       [ 0,  2,  0,  2,  6, 10,  8,  5,  1,  0],\n",
       "       [ 0,  2,  0,  2,  6, 11,  8,  5,  1,  1],\n",
       "       [ 0,  2,  0,  2,  6, 11,  8,  6,  1,  0],\n",
       "       [ 0,  2,  0,  2,  6, 12,  8,  6,  0,  0],\n",
       "       [ 0,  3,  0,  2,  6, 12,  8,  6,  1,  0],\n",
       "       [ 0,  3,  0,  2,  6, 13,  8,  6,  1,  0],\n",
       "       [ 0,  3,  0,  2,  6, 14,  8,  6,  0,  0],\n",
       "       [ 1,  3,  0,  2,  6, 14,  8,  6,  1,  0],\n",
       "       [ 1,  3,  0,  2,  7, 14,  8,  6,  1,  1],\n",
       "       [ 1,  3,  0,  2,  7, 14,  8,  7,  1,  0],\n",
       "       [ 1,  3,  0,  2,  8, 14,  8,  7,  0,  1],\n",
       "       [ 1,  3,  1,  2,  8, 14,  8,  7,  0,  1],\n",
       "       [ 1,  3,  2,  2,  8, 14,  8,  7,  0,  0],\n",
       "       [ 1,  4,  2,  2,  8, 14,  8,  7,  1,  1],\n",
       "       [ 1,  4,  2,  2,  8, 14,  8,  8,  1,  1],\n",
       "       [ 1,  4,  2,  2,  8, 14,  9,  8,  1,  0],\n",
       "       [ 1,  4,  2,  2,  9, 14,  9,  8,  1,  1],\n",
       "       [ 1,  4,  2,  2,  9, 14,  9,  9,  1,  1],\n",
       "       [ 1,  4,  2,  2,  9, 14,  9, 10,  0,  0],\n",
       "       [ 1,  5,  2,  2,  9, 14,  9, 10,  1,  1],\n",
       "       [ 1,  5,  2,  2,  9, 14,  9, 11,  1,  0],\n",
       "       [ 1,  5,  2,  2, 10, 14,  9, 11,  1,  1],\n",
       "       [ 1,  5,  2,  2, 10, 14, 10, 11,  1,  1],\n",
       "       [ 1,  5,  2,  2, 10, 14, 10, 12,  1,  0],\n",
       "       [ 1,  5,  2,  2, 10, 15, 10, 12,  0,  0],\n",
       "       [ 1,  6,  2,  2, 10, 15, 10, 12,  1,  1],\n",
       "       [ 1,  6,  2,  2, 10, 15, 10, 13,  1,  0],\n",
       "       [ 1,  6,  2,  2, 11, 15, 10, 13,  1,  1],\n",
       "       [ 1,  6,  2,  2, 11, 15, 10, 14,  1,  1],\n",
       "       [ 1,  6,  2,  2, 11, 15, 11, 14,  1,  0],\n",
       "       [ 1,  6,  2,  2, 11, 16, 11, 14,  0,  1],\n",
       "       [ 1,  6,  3,  2, 12, 16, 11, 14,  0,  1],\n",
       "       [ 1,  6,  4,  2, 12, 16, 11, 14,  1,  1],\n",
       "       [ 1,  6,  4,  2, 12, 16, 13, 14,  0,  1],\n",
       "       [ 1,  6,  4,  4, 12, 16, 13, 14,  1,  0],\n",
       "       [ 1,  6,  4,  4, 12, 17, 13, 14,  1,  1],\n",
       "       [ 1,  6,  4,  4, 12, 17, 13, 15,  0,  0],\n",
       "       [ 2,  6,  4,  4, 12, 18, 13, 15,  1,  0],\n",
       "       [ 2,  6,  4,  4, 12, 19, 13, 15,  1,  1],\n",
       "       [ 2,  6,  4,  4, 12, 19, 13, 16,  1,  0],\n",
       "       [ 2,  6,  4,  4, 12, 20, 13, 17,  0,  0],\n",
       "       [ 2,  7,  4,  4, 12, 20, 13, 17,  1,  0],\n",
       "       [ 2,  7,  4,  4, 13, 20, 13, 17,  0,  1],\n",
       "       [ 2,  7,  4,  5, 13, 20, 13, 17,  1,  0],\n",
       "       [ 2,  7,  4,  5, 13, 21, 13, 17,  1,  0],\n",
       "       [ 2,  7,  4,  5, 14, 21, 13, 17,  1,  0],\n",
       "       [ 2,  7,  4,  5, 15, 21, 13, 17,  1,  0],\n",
       "       [ 2,  7,  4,  5, 16, 21, 13, 17,  1,  1],\n",
       "       [ 2,  7,  4,  5, 16, 21, 13, 18,  0,  0],\n",
       "       [ 2,  8,  4,  5, 17, 21, 13, 18,  1,  0],\n",
       "       [ 2,  8,  4,  5, 18, 21, 13, 18,  1,  1],\n",
       "       [ 2,  8,  4,  5, 18, 21, 13, 19,  1,  1],\n",
       "       [ 2,  8,  4,  5, 18, 21, 14, 19,  1,  1],\n",
       "       [ 2,  8,  4,  5, 18, 21, 16, 19,  0,  1],\n",
       "       [ 2,  8,  5,  5, 18, 21, 16, 19,  1,  1],\n",
       "       [ 2,  8,  5,  5, 18, 21, 16, 20,  1,  0],\n",
       "       [ 2,  8,  5,  5, 19, 21, 16, 20,  1,  0],\n",
       "       [ 2,  8,  5,  5, 20, 21, 16, 20,  1,  0],\n",
       "       [ 2,  8,  5,  5, 20, 22, 16, 20,  1,  1],\n",
       "       [ 2,  8,  5,  5, 20, 22, 17, 20,  0,  1]])"
      ]
     },
     "execution_count": 54,
     "metadata": {},
     "output_type": "execute_result"
    }
   ],
   "source": [
    "X[list(set(range(n_examples)) - set(test_idx))]"
   ]
  },
  {
   "cell_type": "code",
   "execution_count": 34,
   "metadata": {},
   "outputs": [
    {
     "data": {
      "text/plain": [
       "array([0., 0., 0., 0., 0., 1., 0., 0., 0., 0., 0., 1., 0., 0., 1., 0., 0.,\n",
       "       0., 0., 0., 0., 0., 0., 1., 0., 0., 0., 0., 0., 0., 0., 0., 0., 0.,\n",
       "       0., 0., 0., 0., 0., 0., 0., 0., 0., 0., 0., 0., 0., 0., 0., 1., 0.,\n",
       "       0., 1., 0., 0., 0., 0., 0., 0., 0., 0., 0., 0., 0., 0., 0., 0., 1.,\n",
       "       0., 0., 0., 1., 0., 0., 0., 0., 0., 0., 0., 0., 0., 0., 0., 1., 0.,\n",
       "       0., 0., 0., 0., 0., 0., 0., 0., 0., 0., 0., 1., 0., 0., 0.])"
      ]
     },
     "execution_count": 34,
     "metadata": {},
     "output_type": "execute_result"
    }
   ],
   "source": [
    "test_mask"
   ]
  },
  {
   "cell_type": "code",
   "execution_count": null,
   "metadata": {},
   "outputs": [],
   "source": []
  },
  {
   "cell_type": "code",
   "execution_count": 9,
   "metadata": {},
   "outputs": [],
   "source": [
    "test = torch.tensor(np.array([[0] * 10, [1] * 10]), dtype=torch.float32)"
   ]
  },
  {
   "cell_type": "code",
   "execution_count": 10,
   "metadata": {},
   "outputs": [
    {
     "data": {
      "text/plain": [
       "(2,)"
      ]
     },
     "execution_count": 10,
     "metadata": {},
     "output_type": "execute_result"
    }
   ],
   "source": [
    "seller_model(test).data.numpy().ravel().shape"
   ]
  },
  {
   "cell_type": "code",
   "execution_count": null,
   "metadata": {},
   "outputs": [],
   "source": []
  },
  {
   "cell_type": "code",
   "execution_count": 11,
   "metadata": {},
   "outputs": [],
   "source": [
    "def compute_loss(reference, prediction):\n",
    "    return torch.mean((prediction - reference) ** 2)"
   ]
  },
  {
   "cell_type": "code",
   "execution_count": null,
   "metadata": {},
   "outputs": [],
   "source": []
  },
  {
   "cell_type": "code",
   "execution_count": null,
   "metadata": {},
   "outputs": [],
   "source": []
  },
  {
   "cell_type": "code",
   "execution_count": null,
   "metadata": {},
   "outputs": [],
   "source": []
  }
 ],
 "metadata": {
  "kernelspec": {
   "display_name": "Python 3",
   "language": "python",
   "name": "python3"
  },
  "language_info": {
   "codemirror_mode": {
    "name": "ipython",
    "version": 3
   },
   "file_extension": ".py",
   "mimetype": "text/x-python",
   "name": "python",
   "nbconvert_exporter": "python",
   "pygments_lexer": "ipython3",
   "version": "3.7.4"
  }
 },
 "nbformat": 4,
 "nbformat_minor": 2
}
